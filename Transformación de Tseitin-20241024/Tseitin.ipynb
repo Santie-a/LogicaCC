{
 "cells": [
  {
   "cell_type": "markdown",
   "metadata": {},
   "source": [
    "<table>\n",
    "    <tr>\n",
    "        <td><img src=\"./img/Macc.png\" width=\"auto\"/></td>\n",
    "        <td>\n",
    "            <table><tr>\n",
    "            <h1 style=\"color:blue;text-align:center\">Lógica para Ciencias de la Computación</h1></td>\n",
    "            </tr></table>   \n",
    "        <td>&nbsp;</td>\n",
    "        <td>\n",
    "            <table><tr>\n",
    "            <tp><p style=\"font-size:150%;text-align:center\">Taller</p></tp>\n",
    "            <tp><p style=\"font-size:150%;text-align:center\">Transformación de Tseitin</p></tp>\n",
    "            </tr></table>\n",
    "        </td>\n",
    "    </tr>\n",
    "</table>\n",
    "\n",
    "---"
   ]
  },
  {
   "cell_type": "markdown",
   "metadata": {},
   "source": [
    "# Objetivos <a class=\"anchor\" id=\"inicio\"></a>\n",
    "\n",
    "El objetivo de este notebook es implementar el algoritmo de transformación de Tseitin, el cual toma una fórmula arbitraria $A$ de la lógica proposicional y produce una fórmula $B$ en forma normal conjuntiva (FNC) tal que todo modelo de $B$ es un modelo de $A$. Esta transformación corre en tiempo lineal respecto a la longitud de $A$.\n",
    "\n",
    "Desarrollaremos el tema mediante las siguientes secciones:"
   ]
  },
  {
   "cell_type": "markdown",
   "metadata": {},
   "source": [
    "\n",
    "# Secciones\n",
    "\n",
    "1. [Transformación a FNC.](#inef)\n",
    "2. [Forma clausal en Python.](#clausal)\n",
    "3. [Transformación de Tseitin.](#tseitin)\n",
    "4. [Comparación de tiempos.](#comp)\n"
   ]
  },
  {
   "cell_type": "markdown",
   "metadata": {},
   "source": [
    "# Transformación a FNC <a class=\"anchor\" id=\"inef\"></a>\n",
    "\n",
    "([Volver al inicio](#inicio))\n",
    "\n",
    "En clases anteriores hemos visto la FNC y un algoritmo de transformación de una fórmula $A$ a otra fórmula $A'$ que está en FNC y es tal que $A\\equiv A'$.\n",
    "\n",
    "El algoritmo sigue los siguientes pasos:\n",
    "\n",
    "* Eliminar `$\\leftrightarrow$' y '$\\to$'.\n",
    "* Eliminar dobles negaciones.\n",
    "* Si $\\neg(B\\wedge C)\\in A.\\mbox{subform}()$, reemplazarla por $\\neg B\\vee\\neg C$.\n",
    "* Si $\\neg(B\\vee C)\\in A.\\mbox{subform}()$, reemplazarla por $\\neg B\\wedge\\neg C$.\n",
    "* Eliminar dobles negaciones.\n",
    "* Mientras se pueda realizar la distribución: reemplazar $B\\vee (C\\wedge D)\\in A.\\mbox{subform}()$ por $(B\\vee C)\\wedge (B\\vee D)$.\n",
    "\n",
    "Estos métodos están implementados en la librería `Logica`:"
   ]
  },
  {
   "cell_type": "code",
   "execution_count": null,
   "metadata": {},
   "outputs": [],
   "source": [
    "from Logica import *"
   ]
  },
  {
   "cell_type": "code",
   "execution_count": null,
   "metadata": {},
   "outputs": [],
   "source": [
    "A = inorder_to_tree(\"((-pOq)>-(rY-t))\")\n",
    "print(f'Fórmula inicial:\\n{str(A)}')\n",
    "A = A.eliminar_imp()\n",
    "print(f'Al eliminar las implicaciones se obtiene:\\n{str(A)}')\n",
    "A = A.eliminar_doble_negacion()\n",
    "print(f'Al eliminar las dobles negaciones se obtiene:\\n{str(A)}')\n",
    "A = A.cambiar_de_morgan_y()\n",
    "print(f'Al reemplazar -(AYB) por -AO-B se obtiene:\\n{str(A)}')\n",
    "A = A.cambiar_de_morgan_o()\n",
    "print(f'Al reemplazar -(AOB) por -AY-B se obtiene:\\n{str(A)}')\n",
    "A = A.eliminar_doble_negacion()\n",
    "print(f'Al eliminar las dobles negaciones se obtiene:\\n{str(A)}')\n",
    "A = A.distribuir_o_en_y()\n",
    "print(f'Al distribuir O en Y se obtiene:\\n{str(A)}')"
   ]
  },
  {
   "cell_type": "markdown",
   "metadata": {},
   "source": [
    "Este proceso se implementó también en el método `fnc`:"
   ]
  },
  {
   "cell_type": "code",
   "execution_count": null,
   "metadata": {},
   "outputs": [],
   "source": [
    "A = inorder_to_tree(\"((-pOq)>-(rY-t))\")\n",
    "print(A.fnc())"
   ]
  },
  {
   "cell_type": "markdown",
   "metadata": {},
   "source": [
    "Podemos medir los tiempos de ejecución de la transformación sobre fórmulas aleatorias de longitud cada vez mayor:"
   ]
  },
  {
   "cell_type": "code",
   "execution_count": null,
   "metadata": {},
   "outputs": [],
   "source": [
    "from Tiempos import *"
   ]
  },
  {
   "cell_type": "code",
   "execution_count": null,
   "metadata": {},
   "outputs": [],
   "source": [
    "lista = lista_formulas(cantidad=20, tipo='aleatorio')\n",
    "nombres = ['metodo_fnc']\n",
    "metodo_fnc = lambda formula: inorder_to_tree(formula).fnc()\n",
    "funs = [metodo_fnc]\n",
    "compara_entradas_funs(funs, nombres, lista)"
   ]
  },
  {
   "cell_type": "markdown",
   "metadata": {},
   "source": [
    "No obstante, dado que no hay una función con la cual comparar los tiempos de ejecución de esta transformación, no podemos ver claramente qué tan eficiente es. Una manera de darnos cuenta de que necesitamos un algoritmo más eficiente de transformación es tratando de transformar una fórmula con 1000 conectivos:"
   ]
  },
  {
   "cell_type": "code",
   "execution_count": null,
   "metadata": {},
   "outputs": [],
   "source": [
    "%%time\n",
    "lista = lista_formulas(cantidad=1000, tipo='aleatorio')\n",
    "A = inorder_to_tree(lista[-1])\n",
    "A.fnc()"
   ]
  },
  {
   "cell_type": "markdown",
   "metadata": {},
   "source": [
    "Es posible que al compilar la celda anterior haya ocurrido un error como \n",
    "\n",
    "`RecursionError: maximum recursion depth exceeded while calling a Python object`\n",
    "\n",
    "Para obtener una representación más eficiente, que no dependa del límite de recursión, vamos a usar la forma clausal de las fórmulas."
   ]
  },
  {
   "cell_type": "markdown",
   "metadata": {},
   "source": [
    "---"
   ]
  },
  {
   "cell_type": "markdown",
   "metadata": {},
   "source": [
    "# Forma clausal <a class=\"anchor\" id=\"clausal\"></a>\n",
    "\n",
    "([Volver al inicio](#inicio))\n",
    "\n",
    "La forma clausal es una variación notacional para las fórmulas en FNC:\n",
    "\n",
    "* Los literales negativos, digamos $\\neg p$, se denotan como $\\overline{p}$.\n",
    "* Las cláusulas, digamos $p\\vee\\neg q\\vee r$, se denotan como secuencias de literales, es decir, $p\\overline{q}r$.\n",
    "* Convención: La cláusula vacía (es decir, la secuencia vacía de literales) se denota por $\\Box$.\n",
    "* Una conjunción de cláusulas, digamos $(p\\vee q)\\wedge (r\\vee\\neg p)$ se denota como un conjunto de cláusulas, es decir, $\\{pq, r\\overline{p}\\}$.\n",
    "* Convención: El conjunto vacío de cláusulas se denota por $\\emptyset$ y es distinto de $\\Box$, (pues podemos considerar $\\{\\Box\\})$.\n",
    "\n",
    "En Python representaremos una fórmula en forma clausal como una lista de listas de literales. Por ejemplo:\n",
    "\n",
    "$(p\\vee q)\\wedge (r\\vee\\neg p)$ se denota como $\\{pq, r\\overline{p}\\}$ y en Python:"
   ]
  },
  {
   "cell_type": "code",
   "execution_count": null,
   "metadata": {},
   "outputs": [],
   "source": [
    "A = [['p','q'], ['r', '-p']]"
   ]
  },
  {
   "cell_type": "markdown",
   "metadata": {},
   "source": [
    "Aún no tenemos un método para operar fórmulas en esta representación, como si ocurre en la representación de fórmulas mediante árboles. Sin embargo, en la próxima clase veremos un SATsolver eficiente para buscar modelos de fórmulas, llamado el algoritmo DPLL, el cual opera sobre fórmulas en forma clausal.\n",
    "\n",
    "Antes de ver este algoritmo, debemos implementar una manera eficiente de transformar una fórmula en su representación clausal. Esto lo haremos en la siguiente sección mediante la transformación de Tseitin. Lo que debemos hacer en este momento es entender el procedimiento de transformar equivalencias de la forma $p\\leftrightarrow \\neg q$ en su representación clausal, el cuál usaremos para hacer Tseitin. \n",
    "\n",
    "Recordemos aquí las equivalencias útiles en Forma Clausal:\n",
    "\n",
    "1. $p\\leftrightarrow \\neg q \\quad \\equiv \\quad \\{\\overline{p}\\ \\overline{q}, pq\\}$\n",
    "2. $p\\leftrightarrow (q\\wedge r) \\quad \\equiv \\quad \\{q\\overline{p}, r\\overline{p}, \\overline{q}\\overline{r}p\\}$\n",
    "3. $p\\leftrightarrow (q\\vee r) \\quad \\equiv \\quad \\{\\overline{q}p, \\overline{r}p, qr\\overline{p}\\}$\n",
    "4. $p\\leftrightarrow (q\\to r) \\quad \\equiv \\quad \\{qp, \\overline{r}p, \\overline{q}r\\overline{p}\\}$\n",
    "\n",
    "Mediante el siguiente código se implementa esta equivalencia:"
   ]
  },
  {
   "cell_type": "code",
   "execution_count": null,
   "metadata": {},
   "outputs": [],
   "source": [
    "def a_clausal(A):\n",
    "    # Subrutina de Tseitin para encontrar la FNC de\n",
    "    # la formula en la pila\n",
    "    # Input: A (cadena) de la forma\n",
    "    #                   p=-q\n",
    "    #                   p=(qYr)\n",
    "    #                   p=(qOr)\n",
    "    #                   p=(q>r)\n",
    "    # Output: B (cadena), equivalente en FNC\n",
    "    assert(len(A)==4 or len(A)==7), u\"Fórmula incorrecta!\"\n",
    "    B = ''\n",
    "    p = A[0]\n",
    "    # print('p', p)\n",
    "    if \"-\" in A:\n",
    "        q = A[-1]\n",
    "        # print('q', q)\n",
    "        B = \"-\"+p+\"O-\"+q+\"Y\"+p+\"O\"+q\n",
    "    elif \"Y\" in A:\n",
    "        q = A[3]\n",
    "        # print('q', q)\n",
    "        r = A[5]\n",
    "        # print('r', r)\n",
    "        B = q+\"O-\"+p+\"Y\"+r+\"O-\"+p+\"Y-\"+q+\"O-\"+r+\"O\"+p\n",
    "    elif \"O\" in A:\n",
    "        q = A[3]\n",
    "        # print('q', q)\n",
    "        r = A[5]\n",
    "        # print('r', r)\n",
    "        B = \"-\"+q+\"O\"+p+\"Y-\"+r+\"O\"+p+\"Y\"+q+\"O\"+r+\"O-\"+p\n",
    "    elif \">\" in A:\n",
    "        q = A[3]\n",
    "        # print('q', q)\n",
    "        r = A[5]\n",
    "        # print('r', r)\n",
    "        B = q+\"O\"+p+\"Y-\"+r+\"O\"+p+\"Y-\"+q+\"O\"+r+\"O-\"+p\n",
    "    elif \"=\" in A:\n",
    "        q = A[3]\n",
    "        # print('q', q)\n",
    "        r = A[5]\n",
    "        # print('r', r)\n",
    "        #qO-rO-pY-qOrO-pY-qO-rOpYqOrOp\n",
    "        B = q+\"O\"+\"-\"+r+\"O\"+\"-\"+p+\"Y\"+\"-\"+q+\"O\"+r+\"O\"+\"-\"+p+\"Y\"+\"-\"+q+\"O\"+\"-\"+r+\"O\"+p+\"Y\"+q+\"O\"+r+\"O\"+p\n",
    "    else:\n",
    "        print(u'Error enENC(): Fórmula incorrecta!')\n",
    "    B = B.split('Y')\n",
    "    B = [c.split('O') for c in B]\n",
    "    return B"
   ]
  },
  {
   "cell_type": "markdown",
   "metadata": {},
   "source": [
    "Observe el funcionamiento de esta función sobre el primer ejemplo de equivalencias útiles:\n",
    "\n",
    "$$p\\leftrightarrow \\neg q \\quad \\equiv \\quad \\{\\overline{p}\\ \\overline{q}, pq\\}$$"
   ]
  },
  {
   "cell_type": "code",
   "execution_count": null,
   "metadata": {},
   "outputs": [],
   "source": [
    "A = 'p=-q'\n",
    "print('p=-q', 'se representa por', a_clausal(A))"
   ]
  },
  {
   "cell_type": "markdown",
   "metadata": {},
   "source": [
    "Esta función sólo se aplica sobre las cuatro equivalencias útiles."
   ]
  },
  {
   "cell_type": "markdown",
   "metadata": {},
   "source": [
    "**Ejercicio 1:**\n",
    "\n",
    "Compruebe el funcionamiento de `a_clausal` en las equivalencias 2, 3 y 4.\n",
    "\n",
    "2. $p\\leftrightarrow (q\\wedge r) \\quad \\equiv \\quad \\{q\\overline{p}, r\\overline{p}, \\overline{q}\\overline{r}p\\}$\n",
    "3. $p\\leftrightarrow (q\\vee r) \\quad \\equiv \\quad \\{\\overline{q}p, \\overline{r}p, qr\\overline{p}\\}$\n",
    "4. $p\\leftrightarrow (q\\to r) \\quad \\equiv \\quad \\{qp, \\overline{r}p, \\overline{q}r\\overline{p}\\}$"
   ]
  },
  {
   "cell_type": "markdown",
   "metadata": {},
   "source": [
    "---"
   ]
  },
  {
   "cell_type": "markdown",
   "metadata": {},
   "source": [
    "# Transformación de Tseitin <a class=\"anchor\" id=\"tseitin\"></a>\n",
    "\n",
    "([Volver al inicio](#inicio))\n",
    "\n",
    "La transformación de Tseitin de una fórmula $A$ es una fórmula $B$ en forma clausal tal que todo modelo de $B$ es un modelo de $A$.\n",
    "\n",
    "El siguiente es el código que implementa esta transformación:"
   ]
  },
  {
   "cell_type": "code",
   "execution_count": null,
   "metadata": {},
   "outputs": [],
   "source": [
    "def tseitin(A):\n",
    "    '''\n",
    "    Algoritmo de transformacion de Tseitin\n",
    "    Input: A (cadena) en notacion inorder\n",
    "    Output: B (cadena), Tseitin\n",
    "    '''\n",
    "    # Creamos letras proposicionales nuevas\n",
    "    f = inorder_to_tree(A)\n",
    "    letrasp = f.letras()\n",
    "    cods_letras = [ord(x) for x in letrasp]\n",
    "    m = max(cods_letras) + 256\n",
    "    letrasp_tseitin = [chr(x) for x in range(m, m + f.num_conec())]\n",
    "    letrasp = list(letrasp) + letrasp_tseitin\n",
    "    L = [] # Inicializamos lista de conjunciones\n",
    "    Pila = [] # Inicializamos pila\n",
    "    i = -1 # Inicializamos contador de variables nuevas\n",
    "    s = A[0] # Inicializamos símbolo de trabajo\n",
    "    while len(A) > 0: # Recorremos la cadena\n",
    "        # print(\"Pila:\", Pila, \" L:\", L, \" s:\", s)\n",
    "        if (s in letrasp) and (len(Pila) > 0) and (Pila[-1]=='-'):\n",
    "            i += 1\n",
    "            atomo = letrasp_tseitin[i]\n",
    "            Pila = Pila[:-1]\n",
    "            Pila.append(atomo)\n",
    "            L.append(atomo + \"=-\" + s)\n",
    "            A = A[1:]\n",
    "            if len(A) > 0:\n",
    "                s = A[0]\n",
    "        elif s == ')':\n",
    "            w = Pila[-1]\n",
    "            O = Pila[-2]\n",
    "            v = Pila[-3]\n",
    "            Pila = Pila[:len(Pila)-4]\n",
    "            i += 1\n",
    "            atomo = letrasp_tseitin[i]\n",
    "            L.append(atomo + \"=(\" + v + O + w + \")\")\n",
    "            s = atomo\n",
    "        else:\n",
    "            Pila.append(s)\n",
    "            A = A[1:]\n",
    "            if len(A) > 0:\n",
    "                s = A[0]\n",
    "    if i < 0:\n",
    "        atomo = Pila[-1]\n",
    "    else:\n",
    "        atomo = letrasp_tseitin[i]\n",
    "    B = [[atomo]] + [a_clausal(x) for x in L]\n",
    "    return B\n"
   ]
  },
  {
   "cell_type": "markdown",
   "metadata": {},
   "source": [
    "Observe el funcionamiento de `tseitin` en la primera equivalencia. Se tiene que $\\neg q$ se corresponde con la fórmula $x_1\\wedge x_1\\leftrightarrow\\neg q$, la cual tiene como representación en forma clausal el conjunto $\\{x_1, \\overline{x_1}\\  \\overline{q}, x_1q\\}$. En resumen:\n",
    "\n",
    "$$\\neg q \\mbox{ se transforma en } \\{x_1, \\overline{x_1}\\ \\overline{q}, x_1q\\}$$"
   ]
  },
  {
   "cell_type": "code",
   "execution_count": null,
   "metadata": {},
   "outputs": [],
   "source": [
    "A = \"-q\"\n",
    "print(A, 'se transforma en\\n', tseitin(A))"
   ]
  },
  {
   "cell_type": "markdown",
   "metadata": {},
   "source": [
    "# Comparación de tiempos <a class=\"anchor\" id=\"comp\"></a>\n",
    "\n",
    "([Volver al inicio](#inicio))\n",
    "\n",
    "Y ahora lo prometido. Debemos ver que la transformación de Tseitin es un algoritmo eficiente, es decir, que el aumento de tiempo de ejecución está en proporción lineal con la longitud de la fórmula:"
   ]
  },
  {
   "cell_type": "code",
   "execution_count": null,
   "metadata": {},
   "outputs": [],
   "source": [
    "lista = lista_formulas(cantidad=20, tipo='aleatorio')\n",
    "nombres = ['metodo_fnc', 'tseitin']\n",
    "metodo_fnc = lambda formula: inorder_to_tree(formula).fnc()\n",
    "funs = [metodo_fnc, tseitin]\n",
    "compara_entradas_funs(funs, nombres, lista)"
   ]
  },
  {
   "cell_type": "markdown",
   "metadata": {},
   "source": [
    "Observe que a medida que aumentamos la longitud de las fórmulas, el método `fnc` es cada vez más demorado. Adicionalmente, es fácil observar que el algoritmo de Tseitin aumenta su tiempo de ejecución de manera lineal con respecto a la longitud de las fórmulas. Este es un resultado realmente extraordinario y útil."
   ]
  },
  {
   "cell_type": "markdown",
   "metadata": {},
   "source": [
    "---"
   ]
  }
 ],
 "metadata": {
  "kernelspec": {
   "display_name": "Python 3 (ipykernel)",
   "language": "python",
   "name": "python3"
  },
  "language_info": {
   "codemirror_mode": {
    "name": "ipython",
    "version": 3
   },
   "file_extension": ".py",
   "mimetype": "text/x-python",
   "name": "python",
   "nbconvert_exporter": "python",
   "pygments_lexer": "ipython3",
   "version": "3.11.5"
  }
 },
 "nbformat": 4,
 "nbformat_minor": 4
}
